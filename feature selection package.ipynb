{
 "cells": [
  {
   "cell_type": "code",
   "execution_count": null,
   "metadata": {},
   "outputs": [],
   "source": [
    "import pandas as pd\n",
    "import numpy as np"
   ]
  },
  {
   "cell_type": "markdown",
   "metadata": {},
   "source": [
    "# Brute_force"
   ]
  },
  {
   "cell_type": "code",
   "execution_count": null,
   "metadata": {},
   "outputs": [],
   "source": [
    "data.corr()"
   ]
  },
  {
   "cell_type": "code",
   "execution_count": null,
   "metadata": {},
   "outputs": [],
   "source": [
    "import seaborn as sns\n",
    "import matplotlib.pyplot as plt\n",
    "fig = plt.figure(figsize = (8,8))\n",
    "sns.heatmap(data.corr(), vmin = -1, vmax = 1, annot = True, cmap = \"coolwarm\")"
   ]
  },
  {
   "cell_type": "markdown",
   "metadata": {},
   "source": [
    "## Principal Component Analysis (PCA)"
   ]
  },
  {
   "cell_type": "code",
   "execution_count": null,
   "metadata": {},
   "outputs": [],
   "source": [
    "from sklearn.decomposition import PCA"
   ]
  },
  {
   "cell_type": "code",
   "execution_count": null,
   "metadata": {},
   "outputs": [],
   "source": [
    "##Building model\n",
    "model = PCA(n_components = 2).fit(X_mm)\n",
    "X_pca = model.transform(X_mm)     #fit_transform\n",
    "##number of components\n",
    "n_pca = model.components_.shape[0]\n",
    "##get the most important features\n",
    "most_important = [np.abs(model.components_[i]).argmax() for i in range(n_pca)]\n",
    "\n",
    "##get the names\n",
    "feature_names_t = data6.columns\n",
    "most_important_names = [feature_names_t[most_important[i]] for i in range(n_pca)]\n",
    "\n",
    "#dict = {\"PCA {}\".format(i) : most_important_names[i] for i in range(n_pca)}\n",
    "#df = pd.DataFrame(dict.items())\n",
    "\n",
    "df = pd.DataFrame(most_important_names)"
   ]
  },
  {
   "cell_type": "code",
   "execution_count": null,
   "metadata": {},
   "outputs": [],
   "source": [
    "df"
   ]
  },
  {
   "cell_type": "markdown",
   "metadata": {},
   "source": [
    "# filter_method"
   ]
  },
  {
   "cell_type": "markdown",
   "metadata": {},
   "source": [
    "### split(x,y,binary)"
   ]
  },
  {
   "cell_type": "code",
   "execution_count": null,
   "metadata": {},
   "outputs": [],
   "source": [
    "from sklearn.preprocessing import MinMaxScaler\n",
    "mm = MinMaxScaler()\n",
    "x_mm = mm.fit_transform(X)\n",
    "x_mm"
   ]
  },
  {
   "cell_type": "code",
   "execution_count": null,
   "metadata": {},
   "outputs": [],
   "source": [
    "mm_df = pd.DataFrame(x_mm, columns = x.columns)"
   ]
  },
  {
   "cell_type": "code",
   "execution_count": null,
   "metadata": {},
   "outputs": [],
   "source": [
    "data = pd.concat([mm_df, binary,y], axis = 1)\n",
    "data"
   ]
  },
  {
   "cell_type": "code",
   "execution_count": null,
   "metadata": {},
   "outputs": [],
   "source": [
    "from sklearn.feature_selection import SelectKBest\n",
    "from sklearn.feature_selection import chi2\n",
    "split(x,y)\n",
    "#Apply SelectKBest class to select top n features\n",
    "bestfeatures = SelectKBest(score_func = chi2, k = ?)\n",
    "fit = bestfeatures.fit(x,Y)\n",
    "dfscores = pd.DataFrame(fit.scores_)\n",
    "dfcolumns = pd.DataFrame(x.columns)\n",
    "\n",
    "#Conatenating two mentioned dataframes for better displaying\n",
    "featurescores = pd.concat([dfcolumns, dfscores], axis = 1)\n",
    "featurescores.columns = [\"feature_name\", \"feature_score\"]\n",
    "print(featurescores.nlargest(k, \"feature_score\"))\n"
   ]
  },
  {
   "cell_type": "code",
   "execution_count": null,
   "metadata": {},
   "outputs": [],
   "source": [
    "from sklearn.feature_selection import SelectKBest\n",
    "from sklearn.feature_selection import f_classif\n",
    "split(x,y)\n",
    "#Apply SelectKBest class to select top n features\n",
    "bestfeatures = SelectKBest(score_func = f_classif , k = ?)\n",
    "fit = bestfeatures.fit(x,Y)\n",
    "dfscores = pd.DataFrame(fit.scores_)\n",
    "dfcolumns = pd.DataFrame(x.columns)\n",
    "\n",
    "#Conatenating two mentioned dataframes for better displaying\n",
    "featurescores = pd.concat([dfcolumns, dfscores], axis = 1)\n",
    "featurescores.columns = [\"feature_name\", \"feature_score\"]\n",
    "print(featurescores.nlargest(k, \"feature_score\"))\n"
   ]
  },
  {
   "cell_type": "code",
   "execution_count": null,
   "metadata": {},
   "outputs": [],
   "source": [
    "# configure to select all features\n",
    "fs = SelectKBest(score_func=f_classif, k='all')\n",
    "# learn relationship from training data\n",
    "fs.fit(X1, Y1)\n",
    "# transform train input data\n",
    "X_train_fs = fs.transform(X1)\n",
    "X_train_fs"
   ]
  }
 ],
 "metadata": {
  "kernelspec": {
   "display_name": "Python 3",
   "language": "python",
   "name": "python3"
  },
  "language_info": {
   "codemirror_mode": {
    "name": "ipython",
    "version": 3
   },
   "file_extension": ".py",
   "mimetype": "text/x-python",
   "name": "python",
   "nbconvert_exporter": "python",
   "pygments_lexer": "ipython3",
   "version": "3.8.3"
  }
 },
 "nbformat": 4,
 "nbformat_minor": 4
}
